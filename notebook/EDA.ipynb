{
 "cells": [
  {
   "cell_type": "code",
   "execution_count": 3,
   "metadata": {},
   "outputs": [],
   "source": [
    "import pandas as pd\n",
    "import os\n",
    "data_folder = '../src/data/'"
   ]
  },
  {
   "cell_type": "code",
   "execution_count": 4,
   "metadata": {},
   "outputs": [],
   "source": [
    "radiation_data = pd.read_csv(os.path.join(data_folder, 'sierraleone-bumbuna.csv'))"
   ]
  },
  {
   "cell_type": "code",
   "execution_count": 5,
   "metadata": {},
   "outputs": [
    {
     "name": "stdout",
     "output_type": "stream",
     "text": [
      "          Timestamp  GHI  DNI  DHI  ModA  ModB  Tamb    RH   WS  WSgust  \\\n",
      "0  2021-10-30 00:01 -0.7 -0.1 -0.8   0.0   0.0  21.9  99.1  0.0     0.0   \n",
      "1  2021-10-30 00:02 -0.7 -0.1 -0.8   0.0   0.0  21.9  99.2  0.0     0.0   \n",
      "2  2021-10-30 00:03 -0.7 -0.1 -0.8   0.0   0.0  21.9  99.2  0.0     0.0   \n",
      "3  2021-10-30 00:04 -0.7  0.0 -0.8   0.0   0.0  21.9  99.3  0.0     0.0   \n",
      "4  2021-10-30 00:05 -0.7 -0.1 -0.8   0.0   0.0  21.9  99.3  0.0     0.0   \n",
      "\n",
      "   WSstdev   WD  WDstdev    BP  Cleaning  Precipitation  TModA  TModB  \\\n",
      "0      0.0  0.0      0.0  1002         0            0.0   22.3   22.6   \n",
      "1      0.0  0.0      0.0  1002         0            0.0   22.3   22.6   \n",
      "2      0.0  0.0      0.0  1002         0            0.0   22.3   22.6   \n",
      "3      0.0  0.0      0.0  1002         0            0.1   22.3   22.6   \n",
      "4      0.0  0.0      0.0  1002         0            0.0   22.3   22.6   \n",
      "\n",
      "   Comments  \n",
      "0       NaN  \n",
      "1       NaN  \n",
      "2       NaN  \n",
      "3       NaN  \n",
      "4       NaN  \n"
     ]
    }
   ],
   "source": [
    "print(radiation_data.head())"
   ]
  },
  {
   "cell_type": "code",
   "execution_count": 6,
   "metadata": {},
   "outputs": [],
   "source": [
    "ghi_mean = radiation_data['GHI'].mean()\n",
    "ghi_median = radiation_data['GHI'].median()\n",
    "ghi_std = radiation_data['GHI'].std()"
   ]
  },
  {
   "cell_type": "code",
   "execution_count": 7,
   "metadata": {},
   "outputs": [
    {
     "name": "stdout",
     "output_type": "stream",
     "text": [
      "GHI Mean: 201.95751522070017\n",
      "GHI Median: 0.3\n",
      "GHI Standard Deviation: 298.4951504289856\n"
     ]
    }
   ],
   "source": [
    "print(f\"GHI Mean: {ghi_mean}\")\n",
    "print(f\"GHI Median: {ghi_median}\")\n",
    "print(f\"GHI Standard Deviation: {ghi_std}\")"
   ]
  },
  {
   "attachments": {},
   "cell_type": "markdown",
   "metadata": {},
   "source": [
    "Summary Statistics"
   ]
  },
  {
   "cell_type": "code",
   "execution_count": 9,
   "metadata": {},
   "outputs": [
    {
     "name": "stdout",
     "output_type": "stream",
     "text": [
      "                     Mean  Median Standard Deviation\n",
      "GHI            201.957515     0.3          298.49515\n",
      "DNI            116.376337    -0.1         218.652659\n",
      "DHI            113.720571    -0.1         158.946032\n",
      "ModA           206.643095     3.6         300.896893\n",
      "ModB           198.114691     3.4         288.889073\n",
      "Tamb            26.319394    25.3           4.398605\n",
      "RH              79.448857    85.4          20.520775\n",
      "WS               1.146113     0.8           1.239248\n",
      "WSgust           1.691606     1.6           1.617053\n",
      "WSstdev          0.363823     0.4              0.295\n",
      "WD             133.044668   161.5         114.284792\n",
      "WDstdev           7.17222     6.2           7.535093\n",
      "BP             999.876469  1000.0           2.104419\n",
      "Precipitation    0.004806     0.0           0.047556\n",
      "TModA           32.504263    26.6          12.434899\n",
      "TModB           32.593091    26.9          12.009161\n",
      "Comments              NaN     NaN                NaN\n"
     ]
    },
    {
     "name": "stderr",
     "output_type": "stream",
     "text": [
      "C:\\Users\\User\\AppData\\Roaming\\Python\\Python310\\site-packages\\numpy\\lib\\_nanfunctions_impl.py:1241: RuntimeWarning: Mean of empty slice\n",
      "  return np.nanmean(a, axis, out=out, keepdims=keepdims)\n"
     ]
    }
   ],
   "source": [
    "def is_boolean_column(col):\n",
    "    unique_values = radiation_data[col].dropna().unique()\n",
    "    return sorted(unique_values) == [0, 1] or sorted(unique_values) == [False, True]\n",
    "\n",
    "numerical_columns = radiation_data.select_dtypes(include=['float64', 'int64']).columns\n",
    "\n",
    "numerical_columns = [col for col in numerical_columns if not is_boolean_column(col)]\n",
    "\n",
    "summary_stats = pd.DataFrame(index=numerical_columns, columns=['Mean', 'Median', 'Standard Deviation'])\n",
    "\n",
    "for col in numerical_columns:\n",
    "    summary_stats.loc[col, 'Mean'] = radiation_data[col].mean()\n",
    "    summary_stats.loc[col, 'Median'] = radiation_data[col].median()\n",
    "    summary_stats.loc[col, 'Standard Deviation'] = radiation_data[col].std()\n",
    "\n",
    "print(summary_stats)"
   ]
  },
  {
   "attachments": {},
   "cell_type": "markdown",
   "metadata": {},
   "source": [
    "Data Quality Check"
   ]
  },
  {
   "cell_type": "code",
   "execution_count": null,
   "metadata": {},
   "outputs": [],
   "source": []
  }
 ],
 "metadata": {
  "kernelspec": {
   "display_name": "Python 3",
   "language": "python",
   "name": "python3"
  },
  "language_info": {
   "codemirror_mode": {
    "name": "ipython",
    "version": 3
   },
   "file_extension": ".py",
   "mimetype": "text/x-python",
   "name": "python",
   "nbconvert_exporter": "python",
   "pygments_lexer": "ipython3",
   "version": "3.10.5"
  },
  "orig_nbformat": 4
 },
 "nbformat": 4,
 "nbformat_minor": 2
}
